{
 "cells": [
  {
   "cell_type": "code",
   "execution_count": 1,
   "id": "d538dd08",
   "metadata": {},
   "outputs": [],
   "source": [
    "from sklearn.cluster import KMeans\n",
    "from sklearn.preprocessing import StandardScaler\n",
    "import matplotlib.pyplot as plt\n",
    "import pandas as pd\n",
    "import pickle\n"
   ]
  },
  {
   "cell_type": "code",
   "execution_count": null,
   "id": "0ea4e7b4",
   "metadata": {},
   "outputs": [],
   "source": [
    "# import CSVs\n",
    "\n",
    "hot_100 = pd.read_csv('extended_hot_100.csv')\n",
    "not_hot = pd.read_csv('extended_not_hot.csv')\n",
    "\n",
    "songs_df = pd.concat([hot_100, not_hot], ignore_index=True)\n",
    "songs_df = songs_df.dropna()\n"
   ]
  },
  {
   "cell_type": "code",
   "execution_count": null,
   "id": "831ae215",
   "metadata": {},
   "outputs": [],
   "source": [
    "features = ['danceability',  'valence']\n",
    "songs_features = songs_df[features]\n",
    "\n",
    "scaler = StandardScaler()\n",
    "songs_features_scaled = scaler.fit_transform(songs_features)"
   ]
  },
  {
   "cell_type": "code",
   "execution_count": null,
   "id": "40906fed",
   "metadata": {},
   "outputs": [],
   "source": [
    "wcss = []\n",
    "for i in range(1, 11):\n",
    "    kmeans = KMeans(n_clusters=i, init='k-means++', max_iter=300, n_init=10, random_state=0)\n",
    "    kmeans.fit(songs_features_scaled)\n",
    "    wcss.append(kmeans.inertia_)\n",
    "\n",
    "plt.plot(range(1, 11), wcss)\n",
    "plt.title('Elbow Method')\n",
    "plt.xlabel('Number of clusters')\n",
    "plt.ylabel('WCSS')\n",
    "plt.show()\n",
    "\n",
    "print(songs_features.isnull().sum())"
   ]
  },
  {
   "cell_type": "code",
   "execution_count": null,
   "id": "8c349a8a",
   "metadata": {},
   "outputs": [],
   "source": [
    "songs_features_clean = songs_features.dropna()\n",
    "\n",
    "print(songs_features_clean.isnull().sum())"
   ]
  },
  {
   "cell_type": "code",
   "execution_count": null,
   "id": "f926d633",
   "metadata": {},
   "outputs": [],
   "source": [
    "songs_features_scaled_clean = scaler.fit_transform(songs_features_clean)\n",
    "\n",
    "wcss_clean = []\n",
    "for i in range(1, 11):\n",
    "    kmeans = KMeans(n_clusters=i, init='k-means++', max_iter=300, n_init=10, random_state=0)\n",
    "    kmeans.fit(songs_features_scaled_clean)\n",
    "    wcss_clean.append(kmeans.inertia_)\n",
    "\n",
    "\n",
    "plt.plot(range(1, 11), wcss_clean)\n",
    "plt.title('Elbow Method')\n",
    "plt.xlabel('Number of clusters')\n",
    "plt.ylabel('WCSS')\n",
    "plt.show()\n",
    "\n",
    "kmeans = KMeans(n_clusters=3, init='k-means++', max_iter=300, n_init=10, random_state=0)\n",
    "songs_clusters = kmeans.fit_predict(songs_features_scaled_clean)\n",
    "\n",
    "# scatter plot\n",
    "plt.figure(figsize=(10,7))\n",
    "for i in range(3):  # Since you've chosen 3 clusters\n",
    "    plt.scatter(songs_features_scaled_clean[songs_clusters == i, 0], \n",
    "                songs_features_scaled_clean[songs_clusters == i, 1], \n",
    "                label=f'Cluster {i+1}')\n",
    "\n",
    "plt.scatter(kmeans.cluster_centers_[:, 0], kmeans.cluster_centers_[:, 1], s=300, c='red', marker='X', label='Centroids')\n",
    "plt.title('KMeans Clustering of Songs')\n",
    "plt.xlabel('Scaled Danceability')\n",
    "plt.ylabel('Scaled Valence')\n",
    "plt.legend()\n",
    "plt.show()\n",
    "\n",
    "\n",
    "# add cluster column to dataframe\n",
    "songs_df_clean = songs_df.dropna()\n",
    "songs_df_clean['cluster'] = songs_clusters\n",
    "\n",
    "print(songs_df_clean.head())\n"
   ]
  },
  {
   "cell_type": "code",
   "execution_count": null,
   "id": "21d4d61b",
   "metadata": {},
   "outputs": [],
   "source": [
    "#save the scaler and model\n",
    "scaler_filename_pickle = 'scaler_pickle.pkl'\n",
    "kmeans_filename_pickle = 'kmeans_pickle.pkl'\n",
    "\n",
    "\n",
    "# Saving the scaler\n",
    "with open(scaler_filename_pickle, 'wb') as scaler_file:\n",
    "    pickle.dump(scaler, scaler_file)\n",
    "\n",
    "# Saving the KMeans model\n",
    "with open(kmeans_filename_pickle, 'wb') as kmeans_file:\n",
    "    pickle.dump(kmeans, kmeans_file)\n"
   ]
  },
  {
   "cell_type": "code",
   "execution_count": null,
   "id": "766df940",
   "metadata": {},
   "outputs": [],
   "source": []
  },
  {
   "cell_type": "code",
   "execution_count": null,
   "id": "8e8faf82",
   "metadata": {},
   "outputs": [],
   "source": []
  },
  {
   "cell_type": "code",
   "execution_count": null,
   "id": "8ca181e1",
   "metadata": {},
   "outputs": [],
   "source": []
  }
 ],
 "metadata": {
  "kernelspec": {
   "display_name": "Python 3 (ipykernel)",
   "language": "python",
   "name": "python3"
  },
  "language_info": {
   "codemirror_mode": {
    "name": "ipython",
    "version": 3
   },
   "file_extension": ".py",
   "mimetype": "text/x-python",
   "name": "python",
   "nbconvert_exporter": "python",
   "pygments_lexer": "ipython3",
   "version": "3.11.4"
  }
 },
 "nbformat": 4,
 "nbformat_minor": 5
}
